{
 "cells": [
  {
   "cell_type": "markdown",
   "metadata": {},
   "source": [
    "# Analyses of reconstruction error\n",
    "\n",
    "\n",
    "### \"Do circle-reconstructions differ as a function of distance to the gaussian center?\"\n"
   ]
  },
  {
   "cell_type": "code",
   "execution_count": 49,
   "metadata": {},
   "outputs": [],
   "source": [
    "import torch\n",
    "import pickle\n",
    "\n",
    "from torchvision import transforms\n",
    "\n",
    "import matplotlib.pyplot as plt\n",
    "from matplotlib.ticker import FormatStrFormatter\n",
    "import numpy as np\n",
    "\n",
    "import sys\n",
    "sys.path.append(\"..\") # Adds higher directory to python modules path.\n",
    "from data.dspritesb import dSpriteBackgroundDataset\n",
    "from bVAE.models import staticVAE32, beta_from_normalized_beta\n",
    "ds = dSpriteBackgroundDataset(transform=transforms.Resize(32),shapetype = 'circle')"
   ]
  },
  {
   "cell_type": "code",
   "execution_count": 4,
   "metadata": {},
   "outputs": [],
   "source": [
    "from matplotlib.colors import Normalize\n",
    "from matplotlib import cm\n",
    "from scipy.stats import gaussian_kde as kde\n",
    "\n",
    "# makeColours creates colors each point in a set of points (2D) based on their estimated density\n",
    "# insideCircleErrorByDist.shape -> [N, 2]\n",
    "# densObj0 = kde( insideCircleErrorByDist.T )\n",
    "# cols0 = makeColours(densObj0.evaluate(insideCircleErrorByDist.T))\n",
    "\n",
    "def makeColours( vals ):\n",
    "    colours = np.zeros( (len(vals),3) )\n",
    "    norm = Normalize( vmin=vals.min(), vmax=vals.max() )\n",
    "    colours = [cm.ScalarMappable( norm=norm, cmap='viridis').to_rgba( val ) for val in vals]\n",
    "    return colours"
   ]
  },
  {
   "cell_type": "code",
   "execution_count": 5,
   "metadata": {},
   "outputs": [
    {
     "name": "stdout",
     "output_type": "stream",
     "text": [
      "['betanorm = 0.001 / beta = 0.3']\n",
      "['betanorm = 0.005 / beta = 1.4']\n",
      "['betanorm = 0.030 / beta = 7.7']\n",
      "['betanorm = 0.166 / beta = 42.4']\n",
      "['betanorm = 0.910 / beta = 233.0']\n",
      "['betanorm = 5.000 / beta = 1280.0']\n"
     ]
    }
   ],
   "source": [
    "normalized_beta_values = np.logspace(np.log(.001), np.log(5), 6, base=np.e)\n",
    "N = 1 * 32 * 32\n",
    "M = 4\n",
    "\n",
    "beta = beta_from_normalized_beta(normalized_beta_values, N = N, M = M)\n",
    "\n",
    "\n",
    "for ii,nb in enumerate(normalized_beta_values):\n",
    "    print(['betanorm = %0.3f / beta = %0.1f' % (normalized_beta_values[ii],beta[ii])])"
   ]
  },
  {
   "cell_type": "markdown",
   "metadata": {},
   "source": [
    "### model: bVAE\n"
   ]
  },
  {
   "cell_type": "code",
   "execution_count": 9,
   "metadata": {},
   "outputs": [],
   "source": [
    "vae = list()\n",
    "training_stats = list()\n",
    "for ii,beta_norm in enumerate(normalized_beta_values):\n",
    "\n",
    "    # beta values in the file name of checkpoints have varying number of decimal points (not so smart)\n",
    "    beta_norm_str = '%0.4f' % (beta_norm)\n",
    "    while beta_norm_str[-1] == '0' and beta_norm_str[-2] != '.':\n",
    "        beta_norm_str = beta_norm_str[:-1]\n",
    "    \n",
    "    trainedpath = '../bVAE/trained/staticvae32_betanorm=%s_dsprites_circle_last_500K' % (beta_norm_str)\n",
    "    trainstatspath = '../bVAE/trained/staticvae32_betanorm=%s_dsprites_circle_500K.pkl' % (beta_norm_str)\n",
    "    \n",
    "    vae.append(staticVAE32(n_latent = 4))\n",
    "    checkpoint = torch.load(trainedpath)\n",
    "    vae[ii].load_state_dict(checkpoint['model_states']['net'])\n",
    "\n",
    "    training_stats.append(pickle.load(open(trainstatspath, 'rb')))"
   ]
  },
  {
   "cell_type": "markdown",
   "metadata": {},
   "source": [
    "### Plot reconstruction error for object, edge of object, background for different configurations of object and background"
   ]
  },
  {
   "cell_type": "markdown",
   "metadata": {},
   "source": [
    "#### compute errors\n",
    "\n",
    "loop across an equidistantly spaced 4D grid (objx,objy,backx,backy) and compute reconstruction error for each of the samples\n"
   ]
  },
  {
   "cell_type": "markdown",
   "metadata": {},
   "source": [
    "### the next cell has already been precomputed and can be loaded (if you want) - it takes a while to compute"
   ]
  },
  {
   "cell_type": "code",
   "execution_count": 34,
   "metadata": {},
   "outputs": [
    {
     "name": "stderr",
     "output_type": "stream",
     "text": [
      "/home/benjamin/anaconda3/envs/deepl10/lib/python3.7/site-packages/torch/nn/functional.py:1332: UserWarning: nn.functional.sigmoid is deprecated. Use torch.sigmoid instead.\n",
      "  warnings.warn(\"nn.functional.sigmoid is deprecated. Use torch.sigmoid instead.\")\n"
     ]
    }
   ],
   "source": [
    "# points at which the reconstruction error should be assessed\n",
    "x_ = np.linspace(0, 1., 8)\n",
    "y_ = np.linspace(0, 1., 8)\n",
    "X, Y = np.meshgrid(x_,y_)\n",
    "n_xg = len(x_)\n",
    "n_yg = len(y_)\n",
    "\n",
    "insideCircleErrorL = list()\n",
    "edgeCircleErrorL = list()\n",
    "backgroundErrorL = list()\n",
    "insideCircleErrorByDistL = list()\n",
    "backgroundErrorByDistL = list()\n",
    "edgeCircleErrorByDistL = list()\n",
    "\n",
    "for im, vae_ in enumerate(vae):\n",
    "\n",
    "    # reconstruction error by x,y of gaussian and x,y of circle\n",
    "    insideCircleError = np.zeros((n_xg,n_yg,n_xg,n_yg))\n",
    "    edgeCircleError = np.zeros((n_xg,n_yg,n_xg,n_yg))\n",
    "    backgroundError = np.zeros((n_xg,n_yg,n_xg,n_yg))\n",
    "\n",
    "    # will contain a list of [distance_between_circle_and_gaussian, recon_error] paris\n",
    "    insideCircleErrorByDist = np.zeros((np.prod([n_xg,n_yg,n_xg,n_yg]),2))\n",
    "    edgeCircleErrorByDist = np.zeros((np.prod([n_xg,n_yg,n_xg,n_yg]),2))\n",
    "    backgroundErrorByDist = np.zeros((np.prod([n_xg,n_yg,n_xg,n_yg]),2))\n",
    "\n",
    "    cnt = 0\n",
    "    for ixgauss, x_gauss in enumerate(x_):\n",
    "        for iygauss, y_gauss in enumerate(y_):\n",
    "\n",
    "            for ixcirc, x_circ in enumerate(x_):\n",
    "                for iycirc, y_circ in enumerate(y_):\n",
    "\n",
    "                    x = ds.arbitraryCircle(objx = x_circ, objy = y_circ, backx = x_gauss, backy = y_gauss)\n",
    "                    mu,_ = vae_.encode(x)    \n",
    "                    recon = vae_.decode(mu)\n",
    "\n",
    "                    backgroundMask, objectMask, insideObjectMask, objectEdgeMask = ds.getCircleSegmentationMasks(x_circ,y_circ)\n",
    "\n",
    "                    err = torch.pow(x - recon,2)\n",
    "\n",
    "                    insideCircleError[ixgauss,iygauss,ixcirc,iycirc] = torch.mean(err[insideObjectMask])\n",
    "                    edgeCircleError[ixgauss,iygauss,ixcirc,iycirc] = torch.mean(err[objectEdgeMask])\n",
    "                    backgroundError[ixgauss,iygauss,ixcirc,iycirc] = torch.mean(err[backgroundMask])\n",
    "\n",
    "                    actdist = np.sqrt((x_gauss-x_circ)**2 + (y_gauss-y_circ)**2)\n",
    "                    insideCircleErrorByDist[cnt,0] = actdist\n",
    "                    insideCircleErrorByDist[cnt,1] = insideCircleError[ixgauss,iygauss,ixcirc,iycirc]\n",
    "                    backgroundErrorByDist[cnt,0] = actdist\n",
    "                    backgroundErrorByDist[cnt,1] = backgroundError[ixgauss,iygauss,ixcirc,iycirc]\n",
    "                    edgeCircleErrorByDist[cnt,0] = actdist\n",
    "                    edgeCircleErrorByDist[cnt,1] = edgeCircleError[ixgauss,iygauss,ixcirc,iycirc]\n",
    "\n",
    "                    cnt += 1\n",
    "       \n",
    "    insideCircleErrorL.append(insideCircleError)\n",
    "    edgeCircleErrorL.append(edgeCircleError)\n",
    "    backgroundErrorL.append(backgroundError)\n",
    "    insideCircleErrorByDistL.append(insideCircleErrorByDist)\n",
    "    backgroundErrorByDistL.append(backgroundErrorByDist)\n",
    "    edgeCircleErrorByDistL.append(edgeCircleErrorByDist)\n",
    "\n",
    "    \n",
    "with open('bVAE_reconstructionerror_results.pkl', 'wb') as f:\n",
    "    pickle.dump(insideCircleErrorL, f)\n",
    "    pickle.dump(edgeCircleErrorL, f)\n",
    "    pickle.dump(backgroundErrorL, f)\n",
    "    pickle.dump(insideCircleErrorByDistL, f)\n",
    "    pickle.dump(backgroundErrorByDistL, f)\n",
    "    pickle.dump(edgeCircleErrorByDistL, f)    "
   ]
  },
  {
   "cell_type": "markdown",
   "metadata": {},
   "source": [
    "##### You would only need to load the results here"
   ]
  },
  {
   "cell_type": "code",
   "execution_count": 36,
   "metadata": {},
   "outputs": [],
   "source": [
    "with open('bVAE_reconstructionerror_results.pkl', 'rb') as f:\n",
    "    insideCircleErrorL = pickle.load(f)\n",
    "    edgeCircleErrorL = pickle.load(f)\n",
    "    backgroundErrorL = pickle.load(f)\n",
    "    insideCircleErrorByDistL = pickle.load(f)\n",
    "    backgroundErrorByDistL = pickle.load(f)\n",
    "    edgeCircleErrorByDistL = pickle.load(f)\n",
    "\n",
    "# insideCircleErrorL is a list of length(vae)\n",
    "# insideCircleErrorL[0] contains a n x n x n x n array of reconstruction errors inside the small circle for the first bVAE (beta = 0.3)\n",
    "# n refers to the number of sampling points per dimension of the data\n"
   ]
  },
  {
   "cell_type": "code",
   "execution_count": 86,
   "metadata": {},
   "outputs": [],
   "source": [
    "inside_mean_error = np.zeros((len(vae)))\n",
    "edge_mean_error = np.zeros((len(vae)))\n",
    "background_mean_error = np.zeros((len(vae)))\n",
    "for ii in range(len(vae)):\n",
    "    inside_mean_error[ii] = np.mean(insideCircleErrorL[ii])\n",
    "    edge_mean_error[ii] = np.mean(edgeCircleErrorL[ii])\n",
    "    background_mean_error[ii] = np.mean(backgroundErrorL[ii])"
   ]
  },
  {
   "cell_type": "code",
   "execution_count": 40,
   "metadata": {
    "scrolled": false
   },
   "outputs": [
    {
     "data": {
      "image/png": "[encoded data removed]",
      "text/plain": [
       "<Figure size 1008x432 with 2 Axes>"
      ]
     },
     "metadata": {
      "needs_background": "light"
     },
     "output_type": "display_data"
    }
   ],
   "source": [
    "labels = ['{:.3f}'.format(normalized_beta_value) for ii, normalized_beta_value in enumerate(normalized_beta_values)]\n",
    "\n",
    "_,ax = plt.subplots(1,2,figsize=(14,6),sharey=True, sharex=True)\n",
    "ax[0].bar(np.arange(len(vae)), inside_mean_error)\n",
    "ax[0].set_title('Circle')\n",
    "ax[0].set(xlabel='normalized beta')\n",
    "ax[0].set(ylabel='Reconstruction error (per pixel)')\n",
    "plt.xticks(range(len(vae)), labels, rotation='horizontal', fontsize='10')\n",
    "ax[0].spines['top'].set_visible(False)\n",
    "ax[0].spines['right'].set_visible(False)\n",
    "ax[0].tick_params(axis='x', length=0)\n",
    "\n",
    "ax[1].bar(range(len(vae)), background_mean_error)\n",
    "ax[1].set_title('Background')\n",
    "ax[1].set(xlabel='normalized beta')\n",
    "# plt.xticks(range(len(vae)), labels, rotation='horizontal', fontsize='10')\n",
    "ax[1].spines['top'].set_visible(False)\n",
    "ax[1].spines['right'].set_visible(False)\n",
    "ax[1].spines['left'].set_visible(False)\n",
    "plt.tick_params(top='off', bottom='off', left='off', right='off')#, labelleft='off', labelbottom='on')"
   ]
  },
  {
   "cell_type": "code",
   "execution_count": 88,
   "metadata": {},
   "outputs": [
    {
     "data": {
      "text/plain": [
       "([<matplotlib.axis.XTick at 0x7fb84eb40400>,\n",
       "  <matplotlib.axis.XTick at 0x7fb84ebb6cc0>,\n",
       "  <matplotlib.axis.XTick at 0x7fb84ebf36d8>,\n",
       "  <matplotlib.axis.XTick at 0x7fb84eb68898>,\n",
       "  <matplotlib.axis.XTick at 0x7fb84eb68d30>,\n",
       "  <matplotlib.axis.XTick at 0x7fb84eb74240>],\n",
       " <a list of 6 Text xticklabel objects>)"
      ]
     },
     "execution_count": 88,
     "metadata": {},
     "output_type": "execute_result"
    },
    {
     "data": {
      "image/png": "[encoded data removed]",
      "text/plain": [
       "<Figure size 1008x432 with 3 Axes>"
      ]
     },
     "metadata": {
      "needs_background": "light"
     },
     "output_type": "display_data"
    }
   ],
   "source": [
    "labels = ['{:.3f}'.format(normalized_beta_value) for ii, normalized_beta_value in enumerate(normalized_beta_values)]\n",
    "\n",
    "_,ax = plt.subplots(1,3,figsize=(14,6),sharey=True, sharex=True)\n",
    "ax[0].bar(np.arange(len(vae)), inside_mean_error)\n",
    "ax[0].set_title('per pixel reconstruction error of circle (inside)')\n",
    "ax[0].set(xlabel='normalized beta')\n",
    "plt.xticks(range(len(vae)), labels, rotation='horizontal', fontsize='10')\n",
    "\n",
    "ax[1].bar(np.arange(len(vae)), edge_mean_error)\n",
    "ax[1].set_title('per pixel reconstruction error of edge (inside)')\n",
    "ax[1].set(xlabel='normalized beta')\n",
    "plt.xticks(range(len(vae)), labels, rotation='horizontal', fontsize='10')\n",
    "\n",
    "ax[2].bar(range(len(vae)), background_mean_error)\n",
    "ax[2].set_title('per pixel reconstruction error of background')\n",
    "ax[2].set(xlabel='normalized beta')\n",
    "plt.xticks(range(len(vae)), labels, rotation='horizontal', fontsize='10')\n"
   ]
  }
 ],
 "metadata": {
  "kernelspec": {
   "display_name": "Python 3",
   "language": "python",
   "name": "python3"
  },
  "language_info": {
   "codemirror_mode": {
    "name": "ipython",
    "version": 3
   },
   "file_extension": ".py",
   "mimetype": "text/x-python",
   "name": "python",
   "nbconvert_exporter": "python",
   "pygments_lexer": "ipython3",
   "version": "3.7.3"
  }
 },
 "nbformat": 4,
 "nbformat_minor": 2
}
